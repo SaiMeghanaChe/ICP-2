{
  "nbformat": 4,
  "nbformat_minor": 0,
  "metadata": {
    "colab": {
      "provenance": []
    },
    "kernelspec": {
      "name": "python3",
      "display_name": "Python 3"
    },
    "language_info": {
      "name": "python"
    }
  },
  "cells": [
    {
      "cell_type": "code",
      "execution_count": 2,
      "metadata": {
        "colab": {
          "base_uri": "https://localhost:8080/"
        },
        "id": "pKQ0svfel_Tz",
        "outputId": "a74477b3-52d3-4555-c099-60cf5cb90344"
      },
      "outputs": [
        {
          "output_type": "stream",
          "name": "stdout",
          "text": [
            "[172.8, 178.56, 167.06, 170.51]\n"
          ]
        }
      ],
      "source": [
        "# 3 b)\n",
        "# Function to convert inches to centimeters\n",
        "def inches_to_cms(inches):\n",
        "    return round(inches * 2.54, 2)\n",
        "\n",
        "# Input: list of heights in inches\n",
        "heights_in_inches = [68.03, 70.3, 65.77, 67.13]\n",
        "\n",
        "# List comprehension to convert heights to centimeters\n",
        "heights_in_cms = [inches_to_cms(height) for height in heights_in_inches]\n",
        "\n",
        "# Output: list of heights in centimeters\n",
        "print(heights_in_cms)\n"
      ]
    }
  ]
}