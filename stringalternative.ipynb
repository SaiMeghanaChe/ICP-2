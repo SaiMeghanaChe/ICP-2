{
  "nbformat": 4,
  "nbformat_minor": 0,
  "metadata": {
    "colab": {
      "provenance": []
    },
    "kernelspec": {
      "name": "python3",
      "display_name": "Python 3"
    },
    "language_info": {
      "name": "python"
    }
  },
  "cells": [
    {
      "cell_type": "code",
      "execution_count": 1,
      "metadata": {
        "id": "GlsLQ-GDmWpu",
        "colab": {
          "base_uri": "https://localhost:8080/"
        },
        "outputId": "9e5df076-55f0-4b35-bf3a-0b7efeeb701c"
      },
      "outputs": [
        {
          "output_type": "stream",
          "name": "stdout",
          "text": [
            "Enter your first name: Sai Meghana\n",
            "Enter your last name: Chepuri\n",
            "Full Name: Sai Meghana Chepuri\n"
          ]
        }
      ],
      "source": [
        "# 1 a)\n",
        "# ===========================\n",
        "\n",
        "def fullname(first_name, last_name):\n",
        "\treturn f\"{first_name} {last_name}\"\n",
        "\n",
        "# Taking user input\n",
        "first_name = input(\"Enter your first name: \")\n",
        "last_name = input(\"Enter your last name: \")\n",
        "\n",
        "# Calling the fullname function\n",
        "full_name = fullname(first_name, last_name)\n",
        "\n",
        "#Displaying the result\n",
        "print(\"Full Name:\", full_name)\n"
      ]
    },
    {
      "cell_type": "code",
      "source": [
        "# 1 b)\n",
        "# ===========================\n",
        "\n",
        "def string_alternative(full_name):\n",
        "    return full_name[::2]\n",
        "\n",
        "#Example usage with the provided string \"Good evening\"\n",
        "full_name = input(\"Enter your full name: \")\n",
        "result = string_alternative(full_name)\n",
        "\n",
        "#Displaying the result\n",
        "print(\"Original String:\", full_name)\n",
        "print(\"Every Other Character:\", result)\n"
      ],
      "metadata": {
        "colab": {
          "base_uri": "https://localhost:8080/"
        },
        "id": "hITBxNIwqRW_",
        "outputId": "29f169b4-dd94-438d-ca41-088b151924fe"
      },
      "execution_count": 3,
      "outputs": [
        {
          "output_type": "stream",
          "name": "stdout",
          "text": [
            "Enter your full name: Sai Meghana\n",
            "Original String: Sai Meghana\n",
            "Every Other Character: SiMgaa\n"
          ]
        }
      ]
    }
  ]
}